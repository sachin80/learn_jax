{
  "cells": [
    {
      "cell_type": "code",
      "source": [],
      "metadata": {
        "id": "i4Ha9MnINcbz"
      },
      "id": "i4Ha9MnINcbz",
      "execution_count": null,
      "outputs": []
    }
  ],
  "metadata": {
    "kernelspec": {
      "display_name": "env",
      "language": "python",
      "name": "python3"
    },
    "language_info": {
      "name": "python",
      "version": "3.9.19"
    },
    "colab": {
      "provenance": []
    }
  },
  "nbformat": 4,
  "nbformat_minor": 5
}